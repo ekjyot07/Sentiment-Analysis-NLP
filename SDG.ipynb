{
 "cells": [
  {
   "cell_type": "code",
   "execution_count": 1,
   "metadata": {},
   "outputs": [],
   "source": [
    "import csv\n",
    "import re\n",
    "from sklearn.feature_extraction.text import CountVectorizer\n",
    "from sklearn.linear_model import SGDClassifier\n",
    "from tqdm import tqdm\n",
    "from sklearn.feature_extraction.text import TfidfVectorizer\n",
    "from sklearn.metrics import accuracy_score"
   ]
  },
  {
   "cell_type": "code",
   "execution_count": 24,
   "metadata": {},
   "outputs": [],
   "source": [
    "#creating the training document\n",
    "def create_csv_file(filename, train=True):\n",
    "    header = ['row_number', 'text', 'polarity']\n",
    "    if train == True:\n",
    "        path_to_pos = \"aclImdb/train/pos/\"\n",
    "        path_to_neg = \"aclImdb/train/neg/\"\n",
    "    else:\n",
    "        path_to_pos = \"aclImdb/test/pos/\"\n",
    "        path_to_neg = \"aclImdb/test/neg/\"\n",
    "        \n",
    "    count = 0\n",
    "\n",
    "    with open(filename, 'w', newline='') as f1:\n",
    "            writer = csv.writer(f1, delimiter=',')\n",
    "            writer.writerow(header)\n",
    "            for f in os.listdir(path_to_pos):\n",
    "                polarity = 1\n",
    "                if f.endswith(\".txt\"):\n",
    "                    open_file = open(path_to_pos+f, \"r\")\n",
    "                    data = open_file.read()\n",
    "                    writer.writerow([count,f'\"{data}\"',polarity])\n",
    "                    count += 1\n",
    "                    open_file.close()\n",
    "            for f in os.listdir(path_to_neg):\n",
    "                polarity = 0\n",
    "                if f.endswith(\".txt\"):\n",
    "                    open_file = open(path_to_neg+f, \"r\")\n",
    "                    data = open_file.read()\n",
    "                    writer.writerow([count,f'\"{data}\"',polarity])\n",
    "                    count += 1\n",
    "                    open_file.close()"
   ]
  },
  {
   "cell_type": "markdown",
   "metadata": {},
   "source": [
    "-----"
   ]
  },
  {
   "cell_type": "code",
   "execution_count": 2,
   "metadata": {
    "scrolled": true
   },
   "outputs": [],
   "source": [
    "def create_list_of_docs(filename):\n",
    "    docs = []\n",
    "    polarity = []\n",
    "    with open(filename,'r') as csvfile: # input csv file\n",
    "            reader = csv.reader(csvfile, delimiter=',')\n",
    "            next(reader, None)\n",
    "            for row in tqdm(reader):\n",
    "                docs.append(row[1])\n",
    "                polarity.append(row[2])\n",
    "    return docs, polarity"
   ]
  },
  {
   "cell_type": "code",
   "execution_count": 3,
   "metadata": {},
   "outputs": [],
   "source": [
    "def remove_special_chars (strs):\n",
    "    strs = re.sub(r'<.*?>','', strs)\n",
    "    strs = re.sub(r'[^a-zA-Z. ]','',strs) \n",
    "    \n",
    "    return strs"
   ]
  },
  {
   "cell_type": "code",
   "execution_count": 5,
   "metadata": {
    "scrolled": true
   },
   "outputs": [],
   "source": [
    "def data_preprocess(docs):\n",
    "    for index, row in tqdm(enumerate(docs)):\n",
    "#         sleep(0)\n",
    "        docs[index] = remove_special_chars(row)\n",
    "    return docs"
   ]
  },
  {
   "cell_type": "markdown",
   "metadata": {},
   "source": [
    "---"
   ]
  },
  {
   "cell_type": "code",
   "execution_count": null,
   "metadata": {},
   "outputs": [],
   "source": [
    "create_csv_file(\"imdb_tr.csv\", train=True)"
   ]
  },
  {
   "cell_type": "code",
   "execution_count": null,
   "metadata": {},
   "outputs": [],
   "source": [
    "create_csv_file(\"imdb_te.csv\", train=False)"
   ]
  },
  {
   "cell_type": "code",
   "execution_count": 6,
   "metadata": {},
   "outputs": [
    {
     "name": "stderr",
     "output_type": "stream",
     "text": [
      "25000it [00:00, 49796.25it/s]\n"
     ]
    }
   ],
   "source": [
    "docs_train, y_train = create_list_of_docs(\"imdb_tr.csv\")"
   ]
  },
  {
   "cell_type": "code",
   "execution_count": 7,
   "metadata": {},
   "outputs": [
    {
     "name": "stderr",
     "output_type": "stream",
     "text": [
      "25000it [00:00, 49190.72it/s]\n"
     ]
    }
   ],
   "source": [
    "docs_test, y_test_true = create_list_of_docs(\"imdb_te.csv\")"
   ]
  },
  {
   "cell_type": "code",
   "execution_count": 8,
   "metadata": {},
   "outputs": [
    {
     "name": "stderr",
     "output_type": "stream",
     "text": [
      "25000it [00:00, 50838.82it/s]\n"
     ]
    }
   ],
   "source": [
    "docs_train = data_preprocess(docs_train)"
   ]
  },
  {
   "cell_type": "code",
   "execution_count": 9,
   "metadata": {},
   "outputs": [
    {
     "name": "stderr",
     "output_type": "stream",
     "text": [
      "25000it [00:00, 52591.39it/s]\n"
     ]
    }
   ],
   "source": [
    "docs_test = data_preprocess(docs_test)"
   ]
  },
  {
   "cell_type": "code",
   "execution_count": 11,
   "metadata": {},
   "outputs": [],
   "source": [
    "y_train = list(map(int, y_train))"
   ]
  },
  {
   "cell_type": "code",
   "execution_count": 12,
   "metadata": {},
   "outputs": [],
   "source": [
    "y_test_true = list(map(int, y_test_true))"
   ]
  },
  {
   "cell_type": "code",
   "execution_count": 13,
   "metadata": {},
   "outputs": [],
   "source": [
    "def ngram_classifier (docs_train, y_train, docs_test, ngram_range, tfidf):\n",
    "    \n",
    "    if tfidf==True:\n",
    "        tfidfvec = TfidfVectorizer(stop_words=\"english\",\n",
    "                                  analyzer = 'word',\n",
    "                                  lowercase=True,\n",
    "                                  use_idf=True,\n",
    "                                  ngram_range=ngram_range)\n",
    "        \n",
    "        X_train = tfidfvec.fit_transform(docs_train)\n",
    "    \n",
    "        X_test = tfidfvec.transform(docs_test)\n",
    "        \n",
    "    else:\n",
    "        cvec = CountVectorizer(stop_words=\"english\",\n",
    "                               analyzer = 'word',\n",
    "                               lowercase=True,\n",
    "                               ngram_range=ngram_range)\n",
    "    \n",
    "        X_train = cvec.fit_transform(docs_train)\n",
    "        \n",
    "        X_test = cvec.transform(docs_test)\n",
    "        \n",
    "    \n",
    "    \n",
    "    clf = SGDClassifier(loss=\"hinge\", penalty=\"l1\")\n",
    "    \n",
    "    clf.fit(X_train, y_train)\n",
    "    \n",
    "    prediction = clf.predict(X_test)\n",
    "    \n",
    "    \n",
    "    return prediction\n"
   ]
  },
  {
   "cell_type": "code",
   "execution_count": 14,
   "metadata": {},
   "outputs": [],
   "source": [
    "y_pred_unigram = ngram_classifier(docs_train, y_train, docs_test, (1,1), tfidf = False)"
   ]
  },
  {
   "cell_type": "code",
   "execution_count": 15,
   "metadata": {},
   "outputs": [
    {
     "data": {
      "text/plain": [
       "0.83248"
      ]
     },
     "execution_count": 15,
     "metadata": {},
     "output_type": "execute_result"
    }
   ],
   "source": [
    "accuracy_score(y_test_true, y_pred_unigram)"
   ]
  },
  {
   "cell_type": "code",
   "execution_count": 16,
   "metadata": {},
   "outputs": [],
   "source": [
    "y_pred_bigram = ngram_classifier(docs_train, \n",
    "                                 y_train, \n",
    "                                 docs_test, \n",
    "                                 (1,2), \n",
    "                                 tfidf = False)"
   ]
  },
  {
   "cell_type": "code",
   "execution_count": 17,
   "metadata": {},
   "outputs": [
    {
     "data": {
      "text/plain": [
       "0.83968"
      ]
     },
     "execution_count": 17,
     "metadata": {},
     "output_type": "execute_result"
    }
   ],
   "source": [
    "accuracy_score(y_test_true, y_pred_bigram)"
   ]
  },
  {
   "cell_type": "code",
   "execution_count": 19,
   "metadata": {},
   "outputs": [],
   "source": [
    "y_pred_unigram_tfidf = ngram_classifier(docs_train, \n",
    "                                        y_train, \n",
    "                                        docs_test, \n",
    "                                        (1,1), \n",
    "                                        tfidf = True)"
   ]
  },
  {
   "cell_type": "code",
   "execution_count": 20,
   "metadata": {},
   "outputs": [
    {
     "data": {
      "text/plain": [
       "0.86948"
      ]
     },
     "execution_count": 20,
     "metadata": {},
     "output_type": "execute_result"
    }
   ],
   "source": [
    "accuracy_score(y_test_true, y_pred_unigram_tfidf)"
   ]
  },
  {
   "cell_type": "code",
   "execution_count": 21,
   "metadata": {},
   "outputs": [],
   "source": [
    "y_pred_bigram_tfidf = ngram_classifier(docs_train, \n",
    "                                       y_train, \n",
    "                                       docs_test, \n",
    "                                       (1,2), \n",
    "                                       tfidf = True)"
   ]
  },
  {
   "cell_type": "code",
   "execution_count": 22,
   "metadata": {},
   "outputs": [
    {
     "data": {
      "text/plain": [
       "0.85772"
      ]
     },
     "execution_count": 22,
     "metadata": {},
     "output_type": "execute_result"
    }
   ],
   "source": [
    "accuracy_score(y_test_true, y_pred_bigram_tfidf)"
   ]
  },
  {
   "cell_type": "code",
   "execution_count": null,
   "metadata": {},
   "outputs": [],
   "source": []
  }
 ],
 "metadata": {
  "kernelspec": {
   "display_name": "Python 3",
   "language": "python",
   "name": "python3"
  },
  "language_info": {
   "codemirror_mode": {
    "name": "ipython",
    "version": 3
   },
   "file_extension": ".py",
   "mimetype": "text/x-python",
   "name": "python",
   "nbconvert_exporter": "python",
   "pygments_lexer": "ipython3",
   "version": "3.7.4"
  }
 },
 "nbformat": 4,
 "nbformat_minor": 4
}
